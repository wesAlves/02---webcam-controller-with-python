{
 "cells": [
  {
   "cell_type": "code",
   "execution_count": 10,
   "id": "3e03834a",
   "metadata": {},
   "outputs": [],
   "source": [
    "#Making a basic Bokeh line graph\n",
    "\n",
    "#importing Bokeh\n",
    "from bokeh.plotting import figure\n",
    "from bokeh.io import output_file, show\n",
    "import pandas\n",
    "\n",
    "\n",
    "#prepare some data\n",
    "data_frame = pandas.read_csv('bachelors.csv')\n",
    "x=data_frame['Year']\n",
    "y=data_frame['Engineering']\n",
    "\n",
    "#prepare the output file\n",
    "output_file(\"Line.html\")\n",
    "\n",
    "#create a figure object\n",
    "figure_instance = figure()\n",
    "\n",
    "#create line plot\n",
    "figure_instance.line(x,y)\n",
    "\n",
    "show(figure_instance)\n",
    "\n"
   ]
  }
 ],
 "metadata": {
  "kernelspec": {
   "display_name": "Python 3 (ipykernel)",
   "language": "python",
   "name": "python3"
  },
  "language_info": {
   "codemirror_mode": {
    "name": "ipython",
    "version": 3
   },
   "file_extension": ".py",
   "mimetype": "text/x-python",
   "name": "python",
   "nbconvert_exporter": "python",
   "pygments_lexer": "ipython3",
   "version": "3.10.0"
  }
 },
 "nbformat": 4,
 "nbformat_minor": 5
}
